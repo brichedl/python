{
 "cells": [
  {
   "cell_type": "code",
   "execution_count": null,
   "metadata": {},
   "outputs": [],
   "source": [
    "# 1. Imprimir números del 1 al 10\n",
    "# 2. Sumar los números de la lista \n",
    "# numeros = [1, 2, 3, 4, 5]\n",
    "\n",
    "# 3. Imprimir los elementos de una cadena\n",
    "# cadena = \"Hola, mundo!\"\n",
    "\n",
    "# 4. Crear una lista con los cuadrados de los números del 5 al 10\n",
    "\n",
    "# 5. Buscar un elemento en una lista\n",
    "# numeros = [10, 20, 30, 40]\n",
    "# numero_a_buscar = 30\n",
    "\n",
    "# 6. Invertir la cadena de caracteres e imprimir en pantalla la palbra invertida\n",
    "# cadena = \"Python\"\n",
    "# cadena_invertida = \"\"\n",
    "\n",
    "# 7. Contar la frecuencia de cada palabra en una frase. Utilizando dicionarios\n",
    "# frase = \"Hola mundo, hola Python\"\n",
    "\n",
    "# 8. Buscar que es continue y break en un for, realizar un ejemplo\n",
    "\n",
    "# 9. Iterar sobre un diccionario y imprimir las claves y valores:\n",
    "# menu = {\"pizza\": 15, \"hamburguesa\": 10, \"ensalada\": 8}\n",
    "\n",
    "# 10. Encontrar el número más grande en una lista:\n",
    "# numeros = [3, 7, 2, 9, 5]\n",
    "# numero_maximo = numeros[0]\n",
    "\n",
    "# 11. Crear una lista con los números pares de una lista dada:\n",
    "# numeros = [1, 2, 3, 4, 5, 6, 7, 8]\n",
    "# pares = []\n",
    "\n",
    "# 12. Crear una tabla de multiplicar e imprimir en pantalla\n",
    "\n"
   ]
  }
 ],
 "metadata": {
  "kernelspec": {
   "display_name": "Python 3",
   "language": "python",
   "name": "python3"
  },
  "language_info": {
   "codemirror_mode": {
    "name": "ipython",
    "version": 3
   },
   "file_extension": ".py",
   "mimetype": "text/x-python",
   "name": "python",
   "nbconvert_exporter": "python",
   "pygments_lexer": "ipython3",
   "version": "3.12.3"
  }
 },
 "nbformat": 4,
 "nbformat_minor": 2
}
