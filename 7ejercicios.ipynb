{
 "cells": [
  {
   "cell_type": "code",
   "execution_count": null,
   "metadata": {},
   "outputs": [],
   "source": [
    "# 1. Crea un diccionario que represente a una persona, incluyendo su nombre, edad y ciudad.\n",
    "# * Imprime el nombre de la persona del diccionario anterior.\n",
    "# * Agrega la clave \"profesión\" con el valor \"programador\" al diccionario.\n",
    "# * Cambia la edad de la persona a 31.\n",
    "# * Elimina la clave \"ciudad\" del diccionario.\n",
    "\n",
    "# 2. Crea un diccionario donde las claves sean los nombres de las asignaturas \n",
    "# y los valores sean las calificaciones.\n",
    "# * Calcula el promedio de las calificaciones.\n",
    "\n",
    "# 3. Crear un diccionario de paises.\n",
    "# * Comprobar si una clave existe e imprimir el mensaje, ejemplo \n",
    "# pais=\"España\" imprimir mensaje \"La clave España existe\",\n",
    "# si no imprimir \"La clave España no existe\"\n",
    "# * Utilizar el metodo .get() para obtener un mensaje valor con clave no existente y valor por defecto\n",
    "# * Eliminar un elemento y mostrar el diccionario.\n",
    "\n",
    "# 4. Crear un diccionario para almacenar la información de un libro \n",
    "# (título, autor, año de publicación, género).\n",
    "\n",
    "# 4. Del siguiente diccionario: Obtener todas las claves del diccionario.\n",
    "# *Obtener todos los valores del diccionario y los valores del diccionario anidado\n",
    "\n",
    "# agenda = {\n",
    "#     \"Juan\": {\"telefono\": \"12345678\", \"email\": \"juan@ejemplo.com\"},\n",
    "#     \"Ana\": {\"telefono\": \"98765432\", \"email\": \"ana@ejemplo.com\"}\n",
    "# }\n",
    "\n",
    "\n",
    "# 5. Calcula el promedio de las calificaciones de cada alumno.\n",
    "# calificaciones = {\n",
    "#     \"Juan\": {\"Matemáticas\": 9, \"Historia\": 8},\n",
    "#     \"Ana\": {\"Matemáticas\": 7, \"Historia\": 10}\n",
    "# }\n",
    "# * Devuelve una vista de todos los pares clave-valor del diccionario, \n",
    "# cada par se representa como una tupla (clave, valor) dentro de una lista. \n",
    "# * Convierte la lista con items de tuplas en un diccionario.\n"
   ]
  }
 ],
 "metadata": {
  "kernelspec": {
   "display_name": "Python 3",
   "language": "python",
   "name": "python3"
  },
  "language_info": {
   "codemirror_mode": {
    "name": "ipython",
    "version": 3
   },
   "file_extension": ".py",
   "mimetype": "text/x-python",
   "name": "python",
   "nbconvert_exporter": "python",
   "pygments_lexer": "ipython3",
   "version": "3.12.3"
  }
 },
 "nbformat": 4,
 "nbformat_minor": 2
}
