{
 "cells": [
  {
   "cell_type": "code",
   "execution_count": null,
   "metadata": {},
   "outputs": [],
   "source": [
    "# 1. Crea un diccionario que represente a una persona, incluyendo su nombre, edad y ciudad.\n",
    "# * Imprime el nombre de la persona del diccionario anterior.\n",
    "# * Agrega la clave \"profesión\" con el valor \"programador\" al diccionario.\n",
    "# * Cambia la edad de la persona a 31.\n",
    "# * Elimina la clave \"ciudad\" del diccionario.\n",
    "\n",
    "# 2. Crea un diccionario donde las claves sean los nombres de las asignaturas \n",
    "# y los valores sean las calificaciones.\n",
    "# * Calcula el promedio de las calificaciones.\n",
    "\n",
    "# 3. Crear un diccionario de paises.\n",
    "# * Comprobar si una clave existe e imprimir el mensaje, ejemplo \n",
    "# pais=\"España\" imprimir mensaje \"La clave España existe\",\n",
    "# si no imprimir \"La clave España no existe\"\n",
    "# * Utilizar el metodo .get() para obtener un mensaje valor con clave no existente y valor por defecto\n",
    "# * Eliminar un elemento y mostrar el diccionario.\n",
    "\n",
    "# 4. Crear un diccionario para almacenar la información de un libro \n",
    "# (título, autor, año de publicación, género).\n",
    "\n",
    "# 4. Del siguiente diccionario: Obtener todas las claves del diccionario.\n",
    "# *Obtener todos los valores del diccionario y los valores del diccionario anidado\n",
    "\n",
    "# agenda = {\n",
    "#     \"Juan\": {\"telefono\": \"12345678\", \"email\": \"juan@ejemplo.com\"},\n",
    "#     \"Ana\": {\"telefono\": \"98765432\", \"email\": \"ana@ejemplo.com\"}\n",
    "# }\n",
    "\n",
    "\n",
    "# 5. Calcula el promedio de las calificaciones de cada alumno.\n",
    "# calificaciones = {\n",
    "#     \"Juan\": {\"Matemáticas\": 9, \"Historia\": 8},\n",
    "#     \"Ana\": {\"Matemáticas\": 7, \"Historia\": 10}\n",
    "# }\n",
    "# * Devuelve una vista de todos los pares clave-valor del diccionario, \n",
    "# cada par se representa como una tupla (clave, valor) dentro de una lista. \n",
    "# * Convierte la lista con items de tuplas en un diccionario.\n"
   ]
  },
  {
   "cell_type": "code",
   "execution_count": null,
   "metadata": {},
   "outputs": [],
   "source": [
    "# 1. Con el diccionario de estudiantes:\n",
    "# estudiantes = {\n",
    "#     \"1234\": {\"nombre\": \"Ana\", \"nota\": 8},\n",
    "#     \"5678\": {\"nombre\": \"Juan\", \"nota\": 9}\n",
    "# }\n",
    "\n",
    "# # *Acceder a la nota de Ana usando `get()`\n",
    "# # *Buscar una llave que no existe y mostrar la nota,\n",
    "# # entonces cuando no encuentre un elemento \"nombre\": \"No encontrado\" y \"nota\":\"no encontrada\"\n",
    "# # *Eliminar a un estudiante por código y obtener su información\n",
    "# * actualizar el diccionario existente con el diccionario siguiente (usando update()):\n",
    "# nuevos_estudiantes = {\"9012\": {\"nombre\": \"Maria\", \"nota\": 7}}\n",
    "\n",
    "# 2. Crear un contador de cursos inscritos por estudiante:\n",
    "\n",
    "# cursos = {\n",
    "#     \"1234\": [\"Matemáticas\", \"Física\"],\n",
    "#     \"5678\": [\"Programación\", \"Química\",\"Lectura\"]\n",
    "# }\n",
    "\n",
    "\n",
    "# 3.\n",
    "# estudiantes = {\n",
    "#     \"Juan\": [\"Matemáticas\", \"Física\", \"Inglés\"],\n",
    "#     \"Maria\": [\"Biología\", \"Química\", \"Literatura\"]\n",
    "# }\n",
    "# *Acceder a las asignaturas de Juan usando `get()`\n",
    "# *Iterar sobre los nombres de los estudiantes\n",
    "# *Agregar una nueva asignatura a un estudiante existente:\n",
    "# nuevo_estudiante = \"Pedro\"\n",
    "# nueva_materia = \"Historia\"    "
   ]
  }
 ],
 "metadata": {
  "kernelspec": {
   "display_name": "Python 3",
   "language": "python",
   "name": "python3"
  },
  "language_info": {
   "codemirror_mode": {
    "name": "ipython",
    "version": 3
   },
   "file_extension": ".py",
   "mimetype": "text/x-python",
   "name": "python",
   "nbconvert_exporter": "python",
   "pygments_lexer": "ipython3",
   "version": "3.12.3"
  }
 },
 "nbformat": 4,
 "nbformat_minor": 2
}
