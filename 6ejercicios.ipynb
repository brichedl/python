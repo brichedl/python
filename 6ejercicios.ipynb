{
 "cells": [
  {
   "cell_type": "code",
   "execution_count": null,
   "metadata": {},
   "outputs": [],
   "source": [
    "# 1. Crear una lista de ciudades \n",
    "\n",
    "# 2. Acceder a elementos al indice 1 y cambiarlo. \n",
    "# Realiza el mismo ejercicio pero con indice negativo.\n",
    "\n",
    "# 3. Acceder a elementos al ultimo indice  y cambiarlo. \n",
    "# Realiza el mismo ejercicio pero con indice negativo.\n",
    "\n",
    "# 4. Agregar elementos con la +\n",
    "\n",
    "# 5. Crea una lista de números\n",
    "\n",
    "# 6. Crea una lista de cadenas Profesiones\n",
    "\n",
    "# 7. Crea una lista mixta en tipo de datos \n",
    "\n",
    "# 8. Crea una lista de tus hobbies favoritos.\n",
    "\n",
    "# 9. Agrega tres nuevos hobbies a la lista.\n",
    "\n",
    "# 10. Imprime el segundo y último hobbie de la lista. \n",
    "# Realiza el mismo ejercicio pero con indice negativo.\n",
    "\n",
    "# 11. Cambia la primera hobbie por una nueva.\n",
    "\n",
    "# 12. Crea una lista de listas para representar una matriz de 3x3.\n",
    "\n",
    "# 13. Accede al elemento en la segunda fila y tercera columna de la matriz.\n"
   ]
  }
 ],
 "metadata": {
  "language_info": {
   "name": "python"
  }
 },
 "nbformat": 4,
 "nbformat_minor": 2
}
