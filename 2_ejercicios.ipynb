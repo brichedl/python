{
 "cells": [
  {
   "cell_type": "markdown",
   "metadata": {},
   "source": [
    "# Ejercicios tablas de verdad y operadores lógicos"
   ]
  },
  {
   "cell_type": "markdown",
   "metadata": {},
   "source": [
    "# Ejercicio 1\n",
    "Realizar las seis operaciones para los siguientes dos valores e intenta resolverlo sin ejecutarlo, comenta el resultado esperado y comprueba con la ejecución."
   ]
  },
  {
   "cell_type": "code",
   "execution_count": null,
   "metadata": {},
   "outputs": [],
   "source": [
    "x=5\n",
    "y=7"
   ]
  },
  {
   "cell_type": "code",
   "execution_count": null,
   "metadata": {},
   "outputs": [],
   "source": [
    "# código\n",
    "x<y #True"
   ]
  },
  {
   "cell_type": "markdown",
   "metadata": {},
   "source": [
    "# Ejercicio 2\n",
    "Realiza la tabla de verdad and"
   ]
  },
  {
   "cell_type": "markdown",
   "metadata": {},
   "source": [
    "**Ingrese la tabla de verdad**"
   ]
  },
  {
   "cell_type": "markdown",
   "metadata": {},
   "source": [
    "# Ejercicio 3\n",
    "Realiza la tabla de verdad not"
   ]
  },
  {
   "cell_type": "markdown",
   "metadata": {},
   "source": [
    "**Ingrese la tabla de verdad**"
   ]
  },
  {
   "cell_type": "markdown",
   "metadata": {},
   "source": [
    "# Ejercicio 4\n",
    "Realiza la tabla de verdad not"
   ]
  },
  {
   "cell_type": "markdown",
   "metadata": {},
   "source": [
    "**Ingrese la tabla de verdad**"
   ]
  },
  {
   "cell_type": "markdown",
   "metadata": {},
   "source": [
    "# Ejemplo: siguientes ejercicios.\n",
    "Tenemos el siguiente enunciado y vamos a realizar una operación lógica. Utilizando and, or o not.\n",
    "\n",
    "Instrucciones:\n",
    "\n",
    "1. Lea la consigna.\n",
    "2. Crea las variables necesarias para realizar la operación lógica.\n",
    "3. Utiliza un operador lógico: ¿Qué operador usarías? and, or o not.\n",
    "4. Escribe la expresión lógica.\n",
    "5. Predice el resultado: Antes de ejecutar el código, intenta adivinar cuál será el resultado de la expresión lógica y coméntalo.\n",
    "6. Ejecuta el código: ejecuta el código para comprobar si tu predicción fue correcta.\n",
    "\n",
    "## Ejemplo:\n",
    "\n",
    "* **Consigna:** Imagina que quieres comprar un bolso. Para poder hacerlo, necesitas cumplir dos condiciones: tener dinero suficiente y que el bolso esté disponible para hacer compras.\n",
    "\n",
    "Crea dos variables:\n",
    "* tener_dinero: Asígnale el valor falso.\n",
    "* juego_disponible: Asígnale el valor verdadero.\n",
    "\n",
    "### Código ejemplo\n",
    "\n",
    "\n"
   ]
  },
  {
   "cell_type": "code",
   "execution_count": null,
   "metadata": {},
   "outputs": [],
   "source": [
    "#variables\n",
    "tener_dinero = False\n",
    "juego_disponible = True\n",
    "# condición\n",
    "tener_dinero and juego_disponible \n",
    "# resultado esperado\n",
    "# False "
   ]
  },
  {
   "cell_type": "markdown",
   "metadata": {},
   "source": [
    "# Ejercicio 5\n",
    "**Consigna:** Para aprobar un examen necesito estudiar y entender los temas.\n",
    "\n",
    "Crea dos variables:\n",
    "* _estudiado_: Asignale el valor verdadero\n",
    "* _entendido_: Asignale el valor verdadero"
   ]
  },
  {
   "cell_type": "code",
   "execution_count": null,
   "metadata": {},
   "outputs": [],
   "source": [
    "# variables\n",
    "estudiado =\n",
    "entendido =\n",
    "\n",
    "# condición\n",
    "\n",
    "# resultado esperado\n"
   ]
  },
  {
   "cell_type": "markdown",
   "metadata": {},
   "source": [
    "# Ejercicio 6\n",
    "**Consigna:** Puedo ir al trabajo en coche o en autobús.\n",
    "\n",
    "Crea dos variables:\n",
    "* _tiene_coche_: Asignale el valor falso\n",
    "* _servicion_autobus_: Asignale el valor verdadero\n",
    "\n"
   ]
  },
  {
   "cell_type": "code",
   "execution_count": null,
   "metadata": {},
   "outputs": [],
   "source": [
    "# variables\n",
    "\n",
    "# condición\n",
    "\n",
    "# resultado esperado\n"
   ]
  },
  {
   "cell_type": "markdown",
   "metadata": {},
   "source": [
    "# Ejercicio 7\n",
    "**Consigna:** Está lloviendo. Niega el valor de la variable.\n",
    "\n",
    "Crea una variable:\n",
    "* _esta_lloviendo_: Asignale el valor verdadero\n"
   ]
  },
  {
   "cell_type": "code",
   "execution_count": null,
   "metadata": {},
   "outputs": [],
   "source": [
    "# variables\n",
    "\n",
    "# condición\n",
    "\n",
    "# resultado esperado\n"
   ]
  },
  {
   "cell_type": "markdown",
   "metadata": {},
   "source": [
    "# Ejercicio 8\n",
    "**Consigna:** Ir a la playa depende de que haga buen tiempo y yo tenga tiempo libre.\n",
    "\n",
    "Crea dos variables:\n",
    "* _buen_tiempo_: Asignale el valor verdadero\n",
    "* _tiempo_libre_: Asignale el valor falso\n"
   ]
  },
  {
   "cell_type": "code",
   "execution_count": null,
   "metadata": {},
   "outputs": [],
   "source": [
    "# variables\n",
    "buen_tiempo =\n",
    "tiempo_libre =\n",
    "\n",
    "# condición\n",
    "\n",
    "# resultado esperado\n"
   ]
  },
  {
   "cell_type": "markdown",
   "metadata": {},
   "source": [
    "# Ejercicio 9\n",
    "**Consigna:** Puedo jugar al fútbol, tenis o al baloncesto.\n",
    "\n",
    "Crea dos variables:\n",
    "* _futbol_: Asignale el valor verdadero\n",
    "* _baloncesto_: Asignale el valor falso\n",
    "* _tenis_: Asignale el valor verdadero"
   ]
  },
  {
   "cell_type": "code",
   "execution_count": null,
   "metadata": {},
   "outputs": [],
   "source": [
    "# variables\n",
    "\n",
    "# condición\n",
    "\n",
    "# resultado esperado\n"
   ]
  },
  {
   "cell_type": "markdown",
   "metadata": {},
   "source": [
    "# Ejercicio 10\n",
    "**Consigna:** Tengo hambre. Niega el valor de la variable.\n",
    "\n",
    "Crea dos variables:\n",
    "* _futbol_: Asignale el valor verdadero\n",
    "* _baloncesto_: Asignale el valor falso\n",
    "* _tenis_: Asignale el valor verdadero"
   ]
  },
  {
   "cell_type": "code",
   "execution_count": null,
   "metadata": {},
   "outputs": [],
   "source": [
    "# variables\n",
    "\n",
    "# condición\n",
    "\n",
    "# resultado esperado\n"
   ]
  },
  {
   "cell_type": "markdown",
   "metadata": {},
   "source": [
    "# Ejercicio 11\n",
    "Proponer 2 ejemplos de consignas por cada operador logico (and, or y not)"
   ]
  },
  {
   "cell_type": "markdown",
   "metadata": {},
   "source": [
    "# Ejercicio 12\n",
    "\n",
    "Realiza las siguientes comparaciones algebraicas con los siguientes dos valores e intenta resolverlo sin ejecutarlo, comenta el resultado esperado y comprueba con la ejecución.\n",
    "1. La función 2x + 3 es igual a 7.\n",
    "2. La función x + 5 es menor a 10.\n",
    "3. La función 7x es mayor a 10.\n",
    "4. La función 5+3 es mayor o igual a y\n",
    "6. La función y**2 es menor e igual a x.\n",
    "7. La función 2x es diferente de y\n",
    "\n",
    "##  Variabales\n",
    "\n",
    "* x=2\n",
    "* y=7\n",
    "### Ejemplo\n"
   ]
  },
  {
   "cell_type": "code",
   "execution_count": null,
   "metadata": {},
   "outputs": [],
   "source": [
    "x=2\n",
    "y=7"
   ]
  },
  {
   "cell_type": "markdown",
   "metadata": {},
   "source": [
    "1. La función 2x + 3 es igual a 7"
   ]
  },
  {
   "cell_type": "code",
   "execution_count": null,
   "metadata": {},
   "outputs": [],
   "source": [
    "2*x+ 3 == 7 # True"
   ]
  },
  {
   "cell_type": "code",
   "execution_count": null,
   "metadata": {},
   "outputs": [],
   "source": [
    "# Código"
   ]
  }
 ],
 "metadata": {
  "kernelspec": {
   "display_name": "Python 3",
   "language": "python",
   "name": "python3"
  },
  "language_info": {
   "codemirror_mode": {
    "name": "ipython",
    "version": 3
   },
   "file_extension": ".py",
   "mimetype": "text/x-python",
   "name": "python",
   "nbconvert_exporter": "python",
   "pygments_lexer": "ipython3",
   "version": "3.12.3"
  }
 },
 "nbformat": 4,
 "nbformat_minor": 2
}
